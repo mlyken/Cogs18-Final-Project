{
 "cells": [
  {
   "cell_type": "markdown",
   "metadata": {},
   "source": [
    "# Michael Lyken #\n",
    "___COGS 18 Final Project___\n",
    "## A15248046 ##"
   ]
  },
  {
   "cell_type": "markdown",
   "metadata": {},
   "source": [
    "## Overview\n",
    "My project will be one of Data Analysis. I went ahead and scraped data from IMDb and specified for the years of 2010-2019 and chose highest rating and took the first 100. Following, this project will take a text file of movie names from this specific period and analyze the trends of which year, genre and movie were the best. Enjoy!"
   ]
  },
  {
   "cell_type": "code",
   "execution_count": 1,
   "metadata": {},
   "outputs": [],
   "source": [
    "import string\n",
    "import pandas as pd\n",
    "import random\n",
    "import numpy as np\n",
    "import matplotlib.pyplot as plt"
   ]
  },
  {
   "cell_type": "code",
   "execution_count": 2,
   "metadata": {
    "scrolled": false
   },
   "outputs": [
    {
     "data": {
      "text/html": [
       "<div>\n",
       "<style scoped>\n",
       "    .dataframe tbody tr th:only-of-type {\n",
       "        vertical-align: middle;\n",
       "    }\n",
       "\n",
       "    .dataframe tbody tr th {\n",
       "        vertical-align: top;\n",
       "    }\n",
       "\n",
       "    .dataframe thead th {\n",
       "        text-align: right;\n",
       "    }\n",
       "</style>\n",
       "<table border=\"1\" class=\"dataframe\">\n",
       "  <thead>\n",
       "    <tr style=\"text-align: right;\">\n",
       "      <th></th>\n",
       "      <th>Title</th>\n",
       "      <th>Year</th>\n",
       "      <th>Genre</th>\n",
       "      <th>Rating (Of 10)</th>\n",
       "    </tr>\n",
       "  </thead>\n",
       "  <tbody>\n",
       "    <tr>\n",
       "      <td>0</td>\n",
       "      <td>Uncut Gems (2019)</td>\n",
       "      <td>2019</td>\n",
       "      <td>Crime, Drama, Thriller</td>\n",
       "      <td>7.5</td>\n",
       "    </tr>\n",
       "    <tr>\n",
       "      <td>1</td>\n",
       "      <td>Snowpiercer (2013)</td>\n",
       "      <td>2013</td>\n",
       "      <td>Action, Drama, Sci-Fi</td>\n",
       "      <td>7.1</td>\n",
       "    </tr>\n",
       "    <tr>\n",
       "      <td>2</td>\n",
       "      <td>Joker (2019)</td>\n",
       "      <td>2019</td>\n",
       "      <td>Crime, Drama, Thriller</td>\n",
       "      <td>8.5</td>\n",
       "    </tr>\n",
       "    <tr>\n",
       "      <td>3</td>\n",
       "      <td>Ready or Not (I) (2019)</td>\n",
       "      <td>2019</td>\n",
       "      <td>Comedy, Horror, Mystery</td>\n",
       "      <td>6.8</td>\n",
       "    </tr>\n",
       "    <tr>\n",
       "      <td>4</td>\n",
       "      <td>Once Upon a Time... in Hollywood (2019)</td>\n",
       "      <td>2019</td>\n",
       "      <td>Comedy, Drama</td>\n",
       "      <td>7.7</td>\n",
       "    </tr>\n",
       "    <tr>\n",
       "      <td>...</td>\n",
       "      <td>...</td>\n",
       "      <td>...</td>\n",
       "      <td>...</td>\n",
       "      <td>...</td>\n",
       "    </tr>\n",
       "    <tr>\n",
       "      <td>95</td>\n",
       "      <td>Toy Story 4 (2019)</td>\n",
       "      <td>2019</td>\n",
       "      <td>Animation, Adventure, Comedy</td>\n",
       "      <td>7.8</td>\n",
       "    </tr>\n",
       "    <tr>\n",
       "      <td>96</td>\n",
       "      <td>Shazam! (2019)</td>\n",
       "      <td>2019</td>\n",
       "      <td>Action, Adventure, Comedy</td>\n",
       "      <td>7.1</td>\n",
       "    </tr>\n",
       "    <tr>\n",
       "      <td>97</td>\n",
       "      <td>Code 8 (2019)</td>\n",
       "      <td>2019</td>\n",
       "      <td>Action, Crime, Drama</td>\n",
       "      <td>6.1</td>\n",
       "    </tr>\n",
       "    <tr>\n",
       "      <td>98</td>\n",
       "      <td>John Wick: Chapter 3 - Parabellum (2019)</td>\n",
       "      <td>2019</td>\n",
       "      <td>Action, Crime, Thriller</td>\n",
       "      <td>7.5</td>\n",
       "    </tr>\n",
       "    <tr>\n",
       "      <td>99</td>\n",
       "      <td>Moana (I) (2016)</td>\n",
       "      <td>2016</td>\n",
       "      <td>Animation, Adventure, Comedy</td>\n",
       "      <td>7.6</td>\n",
       "    </tr>\n",
       "  </tbody>\n",
       "</table>\n",
       "<p>100 rows × 4 columns</p>\n",
       "</div>"
      ],
      "text/plain": [
       "                                       Title  Year  \\\n",
       "0                          Uncut Gems (2019)  2019   \n",
       "1                         Snowpiercer (2013)  2013   \n",
       "2                               Joker (2019)  2019   \n",
       "3                    Ready or Not (I) (2019)  2019   \n",
       "4    Once Upon a Time... in Hollywood (2019)  2019   \n",
       "..                                       ...   ...   \n",
       "95                        Toy Story 4 (2019)  2019   \n",
       "96                            Shazam! (2019)  2019   \n",
       "97                             Code 8 (2019)  2019   \n",
       "98  John Wick: Chapter 3 - Parabellum (2019)  2019   \n",
       "99                          Moana (I) (2016)  2016   \n",
       "\n",
       "                           Genre  Rating (Of 10)  \n",
       "0         Crime, Drama, Thriller             7.5  \n",
       "1          Action, Drama, Sci-Fi             7.1  \n",
       "2         Crime, Drama, Thriller             8.5  \n",
       "3        Comedy, Horror, Mystery             6.8  \n",
       "4                  Comedy, Drama             7.7  \n",
       "..                           ...             ...  \n",
       "95  Animation, Adventure, Comedy             7.8  \n",
       "96     Action, Adventure, Comedy             7.1  \n",
       "97          Action, Crime, Drama             6.1  \n",
       "98       Action, Crime, Thriller             7.5  \n",
       "99  Animation, Adventure, Comedy             7.6  \n",
       "\n",
       "[100 rows x 4 columns]"
      ]
     },
     "execution_count": 2,
     "metadata": {},
     "output_type": "execute_result"
    }
   ],
   "source": [
    "file = pd.read_csv(\"IMDB_Titles.csv\")\n",
    "file"
   ]
  },
  {
   "cell_type": "code",
   "execution_count": 3,
   "metadata": {},
   "outputs": [
    {
     "data": {
      "text/plain": [
       "0    2019\n",
       "1    2013\n",
       "2    2019\n",
       "3    2019\n",
       "4    2019\n",
       "Name: Year, dtype: int64"
      ]
     },
     "execution_count": 3,
     "metadata": {},
     "output_type": "execute_result"
    }
   ],
   "source": [
    "titles = file.Title.unique()\n",
    "years = file['Year']\n",
    "years.head()"
   ]
  },
  {
   "cell_type": "code",
   "execution_count": 4,
   "metadata": {},
   "outputs": [
    {
     "data": {
      "text/plain": [
       "int"
      ]
     },
     "execution_count": 4,
     "metadata": {},
     "output_type": "execute_result"
    }
   ],
   "source": [
    "initial = list(file['Year'])\n",
    "type(initial[0])"
   ]
  },
  {
   "cell_type": "code",
   "execution_count": 5,
   "metadata": {},
   "outputs": [
    {
     "data": {
      "text/plain": [
       "str"
      ]
     },
     "execution_count": 5,
     "metadata": {},
     "output_type": "execute_result"
    }
   ],
   "source": [
    "genre1 = list(file['Genre'])\n",
    "type(genre1[0])"
   ]
  },
  {
   "cell_type": "code",
   "execution_count": 6,
   "metadata": {
    "scrolled": true
   },
   "outputs": [],
   "source": [
    "def count_genre(genre1):\n",
    "    count = {} \n",
    "    #new dictionary for the count to be updated to\n",
    "    for i in genre1: \n",
    "        # loops through and counts each specific genre\n",
    "        count[i] = count.get(i, 0) + 1\n",
    "    return count\n",
    "freq_g = count_genre(genre1)"
   ]
  },
  {
   "cell_type": "code",
   "execution_count": 7,
   "metadata": {},
   "outputs": [
    {
     "data": {
      "text/plain": [
       "{'Action, Adventure, Fantasy': 5,\n",
       " 'Action, Adventure, Sci-Fi': 10,\n",
       " 'Drama, Romance': 4,\n",
       " 'Action, Adventure, Comedy': 8}"
      ]
     },
     "execution_count": 7,
     "metadata": {},
     "output_type": "execute_result"
    }
   ],
   "source": [
    "new_dict = {key:val for key, val in freq_g.items() if val > 3}\n",
    "new_dict"
   ]
  },
  {
   "cell_type": "code",
   "execution_count": 8,
   "metadata": {},
   "outputs": [],
   "source": [
    "def count_year(initial):\n",
    "    count = {} \n",
    "    # creates empty dictionary for values\n",
    "    for i in initial: \n",
    "        # counts how many times a year is present and stores its value\n",
    "        count[i] = count.get(i, 0) + 1\n",
    "    return count\n",
    "freq_y = count_year(initial)"
   ]
  },
  {
   "cell_type": "code",
   "execution_count": 25,
   "metadata": {},
   "outputs": [
    {
     "data": {
      "text/plain": [
       "list"
      ]
     },
     "execution_count": 25,
     "metadata": {},
     "output_type": "execute_result"
    }
   ],
   "source": [
    "import re\n",
    "def remove_year(titles):\n",
    "    #defining a pattern of numbers we are looking for\n",
    "    pattern = '[0-9]'\n",
    "    # looping through titles and replacing all numbers with a blank space.\n",
    "    updated = [re.sub(pattern, '', i) for i in titles] \n",
    "    return updated\n",
    "#define new titles as the updated\n",
    "\n",
    "new_titles = remove_year(titles)\n",
    "new_titles"
   ]
  },
  {
   "cell_type": "code",
   "execution_count": 38,
   "metadata": {
    "scrolled": true
   },
   "outputs": [
    {
     "data": {
      "text/plain": [
       "['Uncut Gems ',\n",
       " 'Snowpiercer ',\n",
       " 'Joker ',\n",
       " 'Ready or Not (I) ',\n",
       " 'Once Upon a Time... in Hollywood ',\n",
       " 'The Gentlemen ',\n",
       " 'Parasite ',\n",
       " ' ',\n",
       " 'Knives Out ',\n",
       " 'Rocketman (I) ',\n",
       " 'Avengers: Endgame ',\n",
       " 'Star Wars: Episode IX - The Rise of Skywalker ',\n",
       " 'Justice League ',\n",
       " 'The Lodge ',\n",
       " 'Midsommar ',\n",
       " 'Jojo Rabbit ',\n",
       " ' Just Go with It ',\n",
       " 'The Last Airbender ',\n",
       " '. The Vast of Night ',\n",
       " 'Fast & Furious Presents: Hobbs & Shaw ',\n",
       " 'The Platform ',\n",
       " 'Inception ',\n",
       " 'I See You (II) ',\n",
       " 'Interstellar ',\n",
       " 'Little Women ',\n",
       " 'The Lighthouse (I) ',\n",
       " 'Maleficent: Mistress of Evil ',\n",
       " 'Suicide Squad ',\n",
       " 'Jumanji: The Next Level ',\n",
       " 'Mad Max: Fury Road ',\n",
       " 'Alita: Battle Angel ',\n",
       " 'Hustlers ',\n",
       " 'Bad Education ',\n",
       " 'Django Unchained ',\n",
       " 'Blood Machines ',\n",
       " 'Ford v Ferrari ',\n",
       " 'Captain America: The First Avenger ',\n",
       " 'The Wretched ',\n",
       " ' The Irishman ',\n",
       " 'Midway ',\n",
       " 'Contagion ',\n",
       " 'Doctor Sleep ',\n",
       " 'Avengers: Infinity War ',\n",
       " 'The Lion King ',\n",
       " 'The VelociPastor ',\n",
       " 'Bombshell ',\n",
       " 'The Wolf of Wall Street ',\n",
       " 'Dunkirk ',\n",
       " 'It Chapter Two ',\n",
       " 'Scott Pilgrim vs. the World ',\n",
       " 'Thor: Ragnarok ',\n",
       " 'Guardians of the Galaxy ',\n",
       " 'Call Me by Your Name ',\n",
       " ' Underground ',\n",
       " 'Deadpool  ',\n",
       " ' The Dark Knight Rises ',\n",
       " 'Yesterday (III) ',\n",
       " 'Mission: Impossible - Fallout ',\n",
       " 'Harry Potter and the Deathly Hallows: Part  ',\n",
       " 'The Hunger Games ',\n",
       " 'The Goldfinch ',\n",
       " 'Crazy Rich Asians ',\n",
       " 'Love (II) ',\n",
       " 'The Greatest Showman ',\n",
       " 'Hereditary ',\n",
       " 'Anna (II) ',\n",
       " 'Den of Thieves ',\n",
       " 'Blade Runner  ',\n",
       " 'BlacKkKlansman ',\n",
       " 'Batman v Superman: Dawn of Justice ',\n",
       " 'Gone Girl ',\n",
       " 'Frozen II ',\n",
       " 'Spider-Man: Far from Home ',\n",
       " 'Prisoners ',\n",
       " ' John Wick ',\n",
       " 'It (I) ',\n",
       " 'The Blackout ',\n",
       " 'Cats ',\n",
       " 'Aladdin ',\n",
       " 'Guardians of the Galaxy Vol.  ',\n",
       " 'Grown Ups  ',\n",
       " 'Shutter Island ',\n",
       " 'Deadpool ',\n",
       " 'The Social Network ',\n",
       " 'Aquaman ',\n",
       " 'The Grand Budapest Hotel ',\n",
       " ' Portrait of a Lady on Fire ',\n",
       " 'Black Panther ',\n",
       " 'Bohemian Rhapsody ',\n",
       " 'Booksmart ',\n",
       " 'Angel Has Fallen ',\n",
       " ' Captain Marvel ',\n",
       " ' Green Book ',\n",
       " 'Fury ',\n",
       " 'Wonder Woman ',\n",
       " 'Toy Story  ',\n",
       " 'Shazam! ',\n",
       " 'Code  ',\n",
       " 'John Wick: Chapter  - Parabellum ',\n",
       " 'Moana (I) ']"
      ]
     },
     "execution_count": 38,
     "metadata": {},
     "output_type": "execute_result"
    }
   ],
   "source": [
    "def remove_extras(new_titles):\n",
    "    #function called to remove extra parenthesis\n",
    "    str1 = []\n",
    "    for i in new_titles:\n",
    "        updated_titles = i.replace('()','')\n",
    "        str1.append(updated_titles)\n",
    "    return str1\n",
    "updated_titles = remove_extras(new_titles)"
   ]
  },
  {
   "cell_type": "markdown",
   "metadata": {},
   "source": [
    "# Finding the highest rated movie"
   ]
  },
  {
   "cell_type": "code",
   "execution_count": 11,
   "metadata": {},
   "outputs": [
    {
     "data": {
      "text/plain": [
       "['Inception (2010)', 8.8]"
      ]
     },
     "execution_count": 11,
     "metadata": {},
     "output_type": "execute_result"
    }
   ],
   "source": [
    "# Not a function but serves as a finder for the highest rated film\n",
    "rating1 = file.drop(columns = ['Genre','Year'])\n",
    "rating_list = rating1.values.tolist()\n",
    "sorted_r = sorted(rating_list)\n",
    "sorted_r[50]"
   ]
  },
  {
   "cell_type": "code",
   "execution_count": 12,
   "metadata": {},
   "outputs": [],
   "source": [
    "# returns a list of the individual ratings in the order they were recorded\n",
    "rating = list(file['Rating (Of 10)'])"
   ]
  },
  {
   "cell_type": "code",
   "execution_count": 13,
   "metadata": {
    "scrolled": true
   },
   "outputs": [
    {
     "data": {
      "text/plain": [
       "{7.5: 5,\n",
       " 7.1: 4,\n",
       " 8.5: 2,\n",
       " 6.8: 5,\n",
       " 7.7: 4,\n",
       " 7.9: 8,\n",
       " 8.6: 2,\n",
       " 8.3: 1,\n",
       " 7.3: 5,\n",
       " 8.4: 3,\n",
       " 6.7: 4,\n",
       " 6.4: 4,\n",
       " 6.1: 4,\n",
       " 4.1: 1,\n",
       " 6.5: 2,\n",
       " 7.0: 4,\n",
       " 8.8: 1,\n",
       " 7.6: 5,\n",
       " 6.6: 3,\n",
       " 6.0: 2,\n",
       " 8.1: 8,\n",
       " 6.3: 1,\n",
       " 6.9: 5,\n",
       " 5.8: 1,\n",
       " 7.4: 3,\n",
       " 5.2: 1,\n",
       " 8.2: 2,\n",
       " 8.0: 4,\n",
       " 7.2: 2,\n",
       " 6.2: 1,\n",
       " 2.7: 1,\n",
       " 5.4: 1,\n",
       " 7.8: 1}"
      ]
     },
     "execution_count": 13,
     "metadata": {},
     "output_type": "execute_result"
    }
   ],
   "source": [
    "def count_rating(rating):\n",
    "    count = {} \n",
    "    # creates an empty dictionary\n",
    "    for i in rating: \n",
    "        # counts each individual occurence of a rating per film\n",
    "        count[i] = count.get(i, 0) + 1\n",
    "    return count\n",
    "freq_r = count_genre(rating)\n",
    "freq_r"
   ]
  },
  {
   "cell_type": "code",
   "execution_count": 14,
   "metadata": {},
   "outputs": [
    {
     "data": {
      "text/plain": [
       "{8.5: 2, 8.6: 2, 8.3: 1, 8.4: 3, 8.8: 1, 8.1: 8, 8.2: 2}"
      ]
     },
     "execution_count": 14,
     "metadata": {},
     "output_type": "execute_result"
    }
   ],
   "source": [
    "# Searching to isolate values that are the highest rated\n",
    "rating_dict = {key:val for key, val in freq_r.items() if key > 8.0}\n",
    "rating_dict"
   ]
  },
  {
   "cell_type": "code",
   "execution_count": 15,
   "metadata": {
    "scrolled": true
   },
   "outputs": [
    {
     "data": {
      "image/png": "[encoded data removed]",
      "text/plain": [
       "<Figure size 864x288 with 1 Axes>"
      ]
     },
     "metadata": {
      "needs_background": "light"
     },
     "output_type": "display_data"
    }
   ],
   "source": [
    "# Plot of our graph for frequency by year\n",
    "lists = sorted(freq_y.items())\n",
    "x,y = zip(*lists)\n",
    "x,y\n",
    "\n",
    "plt.figure(figsize = (12,4))\n",
    "plt.plot(x,y, color = 'c')\n",
    "plt.xlabel('Year')\n",
    "plt.ylabel('Frequency')\n",
    "plt.suptitle('Frequency By Year')\n",
    "plt.show()\n"
   ]
  },
  {
   "cell_type": "markdown",
   "metadata": {},
   "source": [
    "## From this we can see that there was an increase around 2018 of movies that made it to the top 100 list."
   ]
  },
  {
   "cell_type": "code",
   "execution_count": 16,
   "metadata": {},
   "outputs": [
    {
     "data": {
      "image/png": "[encoded data removed]",
      "text/plain": [
       "<Figure size 1080x216 with 1 Axes>"
      ]
     },
     "metadata": {
      "needs_background": "light"
     },
     "output_type": "display_data"
    }
   ],
   "source": [
    "# plot of graph for frequency by genre\n",
    "lists = sorted(new_dict.items())\n",
    "x,y = zip(*lists)\n",
    "x,y\n",
    "plt.figure(figsize = (15,3))\n",
    "plt.bar(x,y,facecolor = 'g')\n",
    "plt.xlabel('Genre')\n",
    "plt.ylabel('Frequency')\n",
    "plt.suptitle('Frequency By Genre')\n",
    "plt.show()"
   ]
  },
  {
   "cell_type": "markdown",
   "metadata": {},
   "source": [
    "## From this we see that the Genre which had the highest frequency on our top 100 list was, Action,Adventure,and Sci-Fi"
   ]
  },
  {
   "cell_type": "code",
   "execution_count": 17,
   "metadata": {},
   "outputs": [
    {
     "data": {
      "image/png": "[encoded data removed]",
      "text/plain": [
       "<Figure size 720x360 with 1 Axes>"
      ]
     },
     "metadata": {
      "needs_background": "light"
     },
     "output_type": "display_data"
    }
   ],
   "source": [
    "#Isolating the highest rated films and how many there were\n",
    "lists = sorted(rating_dict.items())\n",
    "x,y = zip(*lists)\n",
    "x,y\n",
    "plt.figure(figsize = (10,5))\n",
    "plt.scatter(x,y,facecolor = 'm')\n",
    "plt.xlabel('Rating')\n",
    "plt.ylabel('Frequency')\n",
    "plt.suptitle('Frequency By Rating Greater >= 8/10')\n",
    "plt.show()"
   ]
  },
  {
   "cell_type": "markdown",
   "metadata": {},
   "source": [
    "# From this graph we see that we only had one film rated at the max of an 8.8, which ended up being Inception as defined earlier!"
   ]
  },
  {
   "cell_type": "markdown",
   "metadata": {},
   "source": [
    "#### Extra Credit (*optional*)\n",
    "\n",
    "\n",
    "I started coding last year (2019) with Data science 10. It was a very challenging course at the time since I had never written a single line of code previously. With that being said I learned a lot of helpful tips and tricks about Python and how to use it in courses such as these; I look forward to getting to play with it more and learn from my experiments.\n",
    "My project went above and beyond the requirements because I took it upon myself to scrape data from an unclean data source, cleaned it and loaded it into my project with no central guidance. Then took a very loose idea and went after an analysis uncertain if there was any to find. It was pretty challenging but I am glad that I took on this project. Lastly I learned better ways to scrape data and clean it."
   ]
  },
  {
   "cell_type": "code",
   "execution_count": null,
   "metadata": {},
   "outputs": [],
   "source": []
  }
 ],
 "metadata": {
  "kernelspec": {
   "display_name": "Python 3",
   "language": "python",
   "name": "python3"
  },
  "language_info": {
   "codemirror_mode": {
    "name": "ipython",
    "version": 3
   },
   "file_extension": ".py",
   "mimetype": "text/x-python",
   "name": "python",
   "nbconvert_exporter": "python",
   "pygments_lexer": "ipython3",
   "version": "3.7.4"
  }
 },
 "nbformat": 4,
 "nbformat_minor": 2
}
