{
 "cells": [
  {
   "cell_type": "code",
   "execution_count": 1,
   "metadata": {},
   "outputs": [],
   "source": [
    "import pandas as pd\n",
    "import pytest\n",
    "import string\n",
    "import re\n",
    "from functions import count_genre, count_year, remove_year,remove_extras, count_rating"
   ]
  },
  {
   "cell_type": "code",
   "execution_count": 2,
   "metadata": {},
   "outputs": [],
   "source": [
    "file = pd.read_csv(\"IMDB_Titles.csv\")\n",
    "titles = file.Title.unique()\n",
    "initial = list(file['Year'])\n",
    "genre1 = list(file['Genre'])\n",
    "rating = list(file['Rating (Of 10)'])\n"
   ]
  },
  {
   "cell_type": "code",
   "execution_count": 3,
   "metadata": {},
   "outputs": [],
   "source": [
    "\n",
    "assert callable(count_genre)\n",
    "assert isinstance(genre1,list)\n",
    "assert len(genre1) == 100\n",
    "assert isinstance(genre1[2], str)\n",
    "\n",
    "assert count_genre([\"action\",'thriller','sci-fi', 'action']) == {'action': 2, 'thriller': 1, 'sci-fi': 1}\n"
   ]
  },
  {
   "cell_type": "code",
   "execution_count": 4,
   "metadata": {},
   "outputs": [],
   "source": [
    "assert callable(count_year)\n",
    "assert isinstance(initial, list)\n",
    "assert len(initial) == 100\n",
    "assert isinstance(initial[0], int)\n",
    "\n",
    "assert count_year([2019,2019,2011,2018,2017]) == {2019: 2, 2011: 1, 2018: 1, 2017: 1}"
   ]
  },
  {
   "cell_type": "code",
   "execution_count": 5,
   "metadata": {},
   "outputs": [],
   "source": [
    "assert callable(remove_extras)\n",
    "assert len(titles) == 100\n",
    "assert isinstance(titles[0], str)\n",
    "\n",
    "assert remove_extras(['Grownups ()']) == ['Grownups ', '']\n",
    "assert remove_extras(['Grom () days']) == ['Grom ', ' days']\n",
    "assert remove_extras(['Grom (99) days']) == ['Grom (99) days']"
   ]
  },
  {
   "cell_type": "code",
   "execution_count": 6,
   "metadata": {},
   "outputs": [],
   "source": [
    "assert callable(remove_year)\n",
    "assert len(titles) == 100\n",
    "\n",
    "assert isinstance(titles[5], str)\n",
    "assert remove_year(['Grownups (2010)']) == ['Grownups ()']\n"
   ]
  },
  {
   "cell_type": "code",
   "execution_count": 7,
   "metadata": {},
   "outputs": [],
   "source": [
    "assert callable(count_rating)\n",
    "assert isinstance(rating, list)\n",
    "assert len(rating) == 100\n",
    "assert isinstance(rating[0], float)\n",
    "\n",
    "assert count_rating(['7.8','9.2','7.8','6.6']) == {'7.8': 2, '9.2': 1, '6.6': 1}\n",
    "assert count_rating(['7.8','9.2','7.8','6.6',6.6]) == {'7.8': 2, '9.2': 1, '6.6': 1, 6.6: 1}"
   ]
  }
 ],
 "metadata": {
  "kernelspec": {
   "display_name": "Python 3",
   "language": "python",
   "name": "python3"
  },
  "language_info": {
   "codemirror_mode": {
    "name": "ipython",
    "version": 3
   },
   "file_extension": ".py",
   "mimetype": "text/x-python",
   "name": "python",
   "nbconvert_exporter": "python",
   "pygments_lexer": "ipython3",
   "version": "3.7.4"
  }
 },
 "nbformat": 4,
 "nbformat_minor": 2
}
